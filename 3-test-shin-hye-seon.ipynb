{
 "cells": [
  {
   "cell_type": "code",
   "execution_count": 1,
   "id": "f1cf4594",
   "metadata": {
    "_cell_guid": "b1076dfc-b9ad-4769-8c92-a6c4dae69d19",
    "_uuid": "8f2839f25d086af736a60e9eeb907d3b93b6e0e5",
    "execution": {
     "iopub.execute_input": "2024-06-23T08:51:22.625049Z",
     "iopub.status.busy": "2024-06-23T08:51:22.624659Z",
     "iopub.status.idle": "2024-06-23T08:51:25.660669Z",
     "shell.execute_reply": "2024-06-23T08:51:25.659586Z"
    },
    "papermill": {
     "duration": 3.052358,
     "end_time": "2024-06-23T08:51:25.663296",
     "exception": false,
     "start_time": "2024-06-23T08:51:22.610938",
     "status": "completed"
    },
    "tags": []
   },
   "outputs": [],
   "source": [
    "import pandas as pd\n",
    "import matplotlib.pyplot as plt\n",
    "import seaborn as sns\n",
    "from sklearn.preprocessing import LabelEncoder\n",
    "from sklearn.model_selection import train_test_split\n",
    "from sklearn.linear_model import LinearRegression, Lasso\n",
    "from sklearn.ensemble import RandomForestRegressor, GradientBoostingRegressor\n",
    "from sklearn.neighbors import KNeighborsRegressor\n",
    "from xgboost import XGBRegressor\n",
    "from sklearn.metrics import r2_score, mean_squared_error\n",
    "import warnings\n",
    "warnings.filterwarnings(\"ignore\")"
   ]
  },
  {
   "cell_type": "code",
   "execution_count": 2,
   "id": "2742e549",
   "metadata": {
    "execution": {
     "iopub.execute_input": "2024-06-23T08:51:25.682774Z",
     "iopub.status.busy": "2024-06-23T08:51:25.682163Z",
     "iopub.status.idle": "2024-06-23T08:51:25.787747Z",
     "shell.execute_reply": "2024-06-23T08:51:25.786418Z"
    },
    "papermill": {
     "duration": 0.11826,
     "end_time": "2024-06-23T08:51:25.790440",
     "exception": false,
     "start_time": "2024-06-23T08:51:25.672180",
     "status": "completed"
    },
    "tags": []
   },
   "outputs": [
    {
     "data": {
      "text/html": [
       "<div>\n",
       "<style scoped>\n",
       "    .dataframe tbody tr th:only-of-type {\n",
       "        vertical-align: middle;\n",
       "    }\n",
       "\n",
       "    .dataframe tbody tr th {\n",
       "        vertical-align: top;\n",
       "    }\n",
       "\n",
       "    .dataframe thead th {\n",
       "        text-align: right;\n",
       "    }\n",
       "</style>\n",
       "<table border=\"1\" class=\"dataframe\">\n",
       "  <thead>\n",
       "    <tr style=\"text-align: right;\">\n",
       "      <th></th>\n",
       "      <th>SquareFeet</th>\n",
       "      <th>Bedrooms</th>\n",
       "      <th>Bathrooms</th>\n",
       "      <th>Neighborhood</th>\n",
       "      <th>YearBuilt</th>\n",
       "      <th>Price</th>\n",
       "    </tr>\n",
       "  </thead>\n",
       "  <tbody>\n",
       "    <tr>\n",
       "      <th>0</th>\n",
       "      <td>2126</td>\n",
       "      <td>4</td>\n",
       "      <td>1</td>\n",
       "      <td>Rural</td>\n",
       "      <td>1969</td>\n",
       "      <td>215355.283618</td>\n",
       "    </tr>\n",
       "    <tr>\n",
       "      <th>1</th>\n",
       "      <td>2459</td>\n",
       "      <td>3</td>\n",
       "      <td>2</td>\n",
       "      <td>Rural</td>\n",
       "      <td>1980</td>\n",
       "      <td>195014.221626</td>\n",
       "    </tr>\n",
       "    <tr>\n",
       "      <th>2</th>\n",
       "      <td>1860</td>\n",
       "      <td>2</td>\n",
       "      <td>1</td>\n",
       "      <td>Suburb</td>\n",
       "      <td>1970</td>\n",
       "      <td>306891.012076</td>\n",
       "    </tr>\n",
       "    <tr>\n",
       "      <th>3</th>\n",
       "      <td>2294</td>\n",
       "      <td>2</td>\n",
       "      <td>1</td>\n",
       "      <td>Urban</td>\n",
       "      <td>1996</td>\n",
       "      <td>206786.787153</td>\n",
       "    </tr>\n",
       "    <tr>\n",
       "      <th>4</th>\n",
       "      <td>2130</td>\n",
       "      <td>5</td>\n",
       "      <td>2</td>\n",
       "      <td>Suburb</td>\n",
       "      <td>2001</td>\n",
       "      <td>272436.239065</td>\n",
       "    </tr>\n",
       "  </tbody>\n",
       "</table>\n",
       "</div>"
      ],
      "text/plain": [
       "   SquareFeet  Bedrooms  Bathrooms Neighborhood  YearBuilt          Price\n",
       "0        2126         4          1        Rural       1969  215355.283618\n",
       "1        2459         3          2        Rural       1980  195014.221626\n",
       "2        1860         2          1       Suburb       1970  306891.012076\n",
       "3        2294         2          1        Urban       1996  206786.787153\n",
       "4        2130         5          2       Suburb       2001  272436.239065"
      ]
     },
     "execution_count": 2,
     "metadata": {},
     "output_type": "execute_result"
    }
   ],
   "source": [
    "df = pd.read_csv('/kaggle/input/housing-price-prediction-data/housing_price_dataset.csv')\n",
    "df.head()"
   ]
  },
  {
   "cell_type": "code",
   "execution_count": 3,
   "id": "edbffb2b",
   "metadata": {
    "execution": {
     "iopub.execute_input": "2024-06-23T08:51:25.810267Z",
     "iopub.status.busy": "2024-06-23T08:51:25.809854Z",
     "iopub.status.idle": "2024-06-23T08:51:25.841002Z",
     "shell.execute_reply": "2024-06-23T08:51:25.839553Z"
    },
    "papermill": {
     "duration": 0.044301,
     "end_time": "2024-06-23T08:51:25.843830",
     "exception": false,
     "start_time": "2024-06-23T08:51:25.799529",
     "status": "completed"
    },
    "tags": []
   },
   "outputs": [
    {
     "name": "stdout",
     "output_type": "stream",
     "text": [
      "<class 'pandas.core.frame.DataFrame'>\n",
      "RangeIndex: 50000 entries, 0 to 49999\n",
      "Data columns (total 6 columns):\n",
      " #   Column        Non-Null Count  Dtype  \n",
      "---  ------        --------------  -----  \n",
      " 0   SquareFeet    50000 non-null  int64  \n",
      " 1   Bedrooms      50000 non-null  int64  \n",
      " 2   Bathrooms     50000 non-null  int64  \n",
      " 3   Neighborhood  50000 non-null  object \n",
      " 4   YearBuilt     50000 non-null  int64  \n",
      " 5   Price         50000 non-null  float64\n",
      "dtypes: float64(1), int64(4), object(1)\n",
      "memory usage: 2.3+ MB\n"
     ]
    }
   ],
   "source": [
    "df.info()"
   ]
  },
  {
   "cell_type": "code",
   "execution_count": 4,
   "id": "200048e3",
   "metadata": {
    "execution": {
     "iopub.execute_input": "2024-06-23T08:51:25.863580Z",
     "iopub.status.busy": "2024-06-23T08:51:25.863180Z",
     "iopub.status.idle": "2024-06-23T08:51:25.877850Z",
     "shell.execute_reply": "2024-06-23T08:51:25.876802Z"
    },
    "papermill": {
     "duration": 0.027296,
     "end_time": "2024-06-23T08:51:25.880197",
     "exception": false,
     "start_time": "2024-06-23T08:51:25.852901",
     "status": "completed"
    },
    "tags": []
   },
   "outputs": [
    {
     "data": {
      "text/plain": [
       "SquareFeet      0\n",
       "Bedrooms        0\n",
       "Bathrooms       0\n",
       "Neighborhood    0\n",
       "YearBuilt       0\n",
       "Price           0\n",
       "dtype: int64"
      ]
     },
     "execution_count": 4,
     "metadata": {},
     "output_type": "execute_result"
    }
   ],
   "source": [
    "# 모든 변수 결측치 확인\n",
    "df.isnull().sum()"
   ]
  },
  {
   "cell_type": "code",
   "execution_count": 5,
   "id": "beaf0b91",
   "metadata": {
    "execution": {
     "iopub.execute_input": "2024-06-23T08:51:25.902061Z",
     "iopub.status.busy": "2024-06-23T08:51:25.901112Z",
     "iopub.status.idle": "2024-06-23T08:51:25.916904Z",
     "shell.execute_reply": "2024-06-23T08:51:25.915815Z"
    },
    "papermill": {
     "duration": 0.02992,
     "end_time": "2024-06-23T08:51:25.919317",
     "exception": false,
     "start_time": "2024-06-23T08:51:25.889397",
     "status": "completed"
    },
    "tags": []
   },
   "outputs": [
    {
     "data": {
      "text/plain": [
       "Neighborhood\n",
       "Suburb    16721\n",
       "Rural     16676\n",
       "Urban     16603\n",
       "Name: count, dtype: int64"
      ]
     },
     "execution_count": 5,
     "metadata": {},
     "output_type": "execute_result"
    }
   ],
   "source": [
    "# object 타입(동네 유형) value 개수\n",
    "df['Neighborhood'].value_counts()"
   ]
  },
  {
   "cell_type": "code",
   "execution_count": 6,
   "id": "dcc432d8",
   "metadata": {
    "execution": {
     "iopub.execute_input": "2024-06-23T08:51:25.940578Z",
     "iopub.status.busy": "2024-06-23T08:51:25.939607Z",
     "iopub.status.idle": "2024-06-23T08:51:26.171804Z",
     "shell.execute_reply": "2024-06-23T08:51:26.170073Z"
    },
    "papermill": {
     "duration": 0.247328,
     "end_time": "2024-06-23T08:51:26.176082",
     "exception": false,
     "start_time": "2024-06-23T08:51:25.928754",
     "status": "completed"
    },
    "tags": []
   },
   "outputs": [
    {
     "data": {
      "image/png": "[encoded data removed]",
      "text/plain": [
       "<Figure size 500x500 with 1 Axes>"
      ]
     },
     "metadata": {},
     "output_type": "display_data"
    }
   ],
   "source": [
    "# Pie Chart로 확인\n",
    "plt.figure(figsize=(5, 5))\n",
    "explode = [0.03, 0.03, 0.03]\n",
    "colors = ['#9BB8CD', '#FFF7D4', '#EEC759']\n",
    "\n",
    "plt.pie(df[\"Neighborhood\"].value_counts(), labels=df[\"Neighborhood\"].value_counts().index, autopct='%1.1f%%', startangle=90, explode=explode, colors=colors, shadow=True)\n",
    "plt.title('Type of Neighborhoods')\n",
    "plt.show()"
   ]
  },
  {
   "cell_type": "code",
   "execution_count": 7,
   "id": "37c5ba51",
   "metadata": {
    "execution": {
     "iopub.execute_input": "2024-06-23T08:51:26.217741Z",
     "iopub.status.busy": "2024-06-23T08:51:26.216539Z",
     "iopub.status.idle": "2024-06-23T08:51:26.447578Z",
     "shell.execute_reply": "2024-06-23T08:51:26.446411Z"
    },
    "papermill": {
     "duration": 0.253212,
     "end_time": "2024-06-23T08:51:26.450204",
     "exception": false,
     "start_time": "2024-06-23T08:51:26.196992",
     "status": "completed"
    },
    "tags": []
   },
   "outputs": [
    {
     "data": {
      "image/png": "[encoded data removed]",
      "text/plain": [
       "<Figure size 640x480 with 1 Axes>"
      ]
     },
     "metadata": {},
     "output_type": "display_data"
    }
   ],
   "source": [
    "# Price 분포 확인\n",
    "plt.boxplot(df[\"Price\"])\n",
    "plt.title('Price')\n",
    "plt.show()"
   ]
  },
  {
   "cell_type": "code",
   "execution_count": 8,
   "id": "4534b22a",
   "metadata": {
    "execution": {
     "iopub.execute_input": "2024-06-23T08:51:26.473940Z",
     "iopub.status.busy": "2024-06-23T08:51:26.472910Z",
     "iopub.status.idle": "2024-06-23T08:51:26.509954Z",
     "shell.execute_reply": "2024-06-23T08:51:26.508874Z"
    },
    "papermill": {
     "duration": 0.051251,
     "end_time": "2024-06-23T08:51:26.512556",
     "exception": false,
     "start_time": "2024-06-23T08:51:26.461305",
     "status": "completed"
    },
    "tags": []
   },
   "outputs": [
    {
     "data": {
      "text/html": [
       "<div>\n",
       "<style scoped>\n",
       "    .dataframe tbody tr th:only-of-type {\n",
       "        vertical-align: middle;\n",
       "    }\n",
       "\n",
       "    .dataframe tbody tr th {\n",
       "        vertical-align: top;\n",
       "    }\n",
       "\n",
       "    .dataframe thead th {\n",
       "        text-align: right;\n",
       "    }\n",
       "</style>\n",
       "<table border=\"1\" class=\"dataframe\">\n",
       "  <thead>\n",
       "    <tr style=\"text-align: right;\">\n",
       "      <th></th>\n",
       "      <th>SquareFeet</th>\n",
       "      <th>Bedrooms</th>\n",
       "      <th>Bathrooms</th>\n",
       "      <th>YearBuilt</th>\n",
       "      <th>Price</th>\n",
       "    </tr>\n",
       "  </thead>\n",
       "  <tbody>\n",
       "    <tr>\n",
       "      <th>count</th>\n",
       "      <td>50000.000000</td>\n",
       "      <td>50000.000000</td>\n",
       "      <td>50000.000000</td>\n",
       "      <td>50000.000000</td>\n",
       "      <td>50000.000000</td>\n",
       "    </tr>\n",
       "    <tr>\n",
       "      <th>mean</th>\n",
       "      <td>2006.374680</td>\n",
       "      <td>3.498700</td>\n",
       "      <td>1.995420</td>\n",
       "      <td>1985.404420</td>\n",
       "      <td>224827.325151</td>\n",
       "    </tr>\n",
       "    <tr>\n",
       "      <th>std</th>\n",
       "      <td>575.513241</td>\n",
       "      <td>1.116326</td>\n",
       "      <td>0.815851</td>\n",
       "      <td>20.719377</td>\n",
       "      <td>76141.842966</td>\n",
       "    </tr>\n",
       "    <tr>\n",
       "      <th>min</th>\n",
       "      <td>1000.000000</td>\n",
       "      <td>2.000000</td>\n",
       "      <td>1.000000</td>\n",
       "      <td>1950.000000</td>\n",
       "      <td>-36588.165397</td>\n",
       "    </tr>\n",
       "    <tr>\n",
       "      <th>25%</th>\n",
       "      <td>1513.000000</td>\n",
       "      <td>3.000000</td>\n",
       "      <td>1.000000</td>\n",
       "      <td>1967.000000</td>\n",
       "      <td>169955.860225</td>\n",
       "    </tr>\n",
       "    <tr>\n",
       "      <th>50%</th>\n",
       "      <td>2007.000000</td>\n",
       "      <td>3.000000</td>\n",
       "      <td>2.000000</td>\n",
       "      <td>1985.000000</td>\n",
       "      <td>225052.141166</td>\n",
       "    </tr>\n",
       "    <tr>\n",
       "      <th>75%</th>\n",
       "      <td>2506.000000</td>\n",
       "      <td>4.000000</td>\n",
       "      <td>3.000000</td>\n",
       "      <td>2003.000000</td>\n",
       "      <td>279373.630052</td>\n",
       "    </tr>\n",
       "    <tr>\n",
       "      <th>max</th>\n",
       "      <td>2999.000000</td>\n",
       "      <td>5.000000</td>\n",
       "      <td>3.000000</td>\n",
       "      <td>2021.000000</td>\n",
       "      <td>492195.259972</td>\n",
       "    </tr>\n",
       "  </tbody>\n",
       "</table>\n",
       "</div>"
      ],
      "text/plain": [
       "         SquareFeet      Bedrooms     Bathrooms     YearBuilt          Price\n",
       "count  50000.000000  50000.000000  50000.000000  50000.000000   50000.000000\n",
       "mean    2006.374680      3.498700      1.995420   1985.404420  224827.325151\n",
       "std      575.513241      1.116326      0.815851     20.719377   76141.842966\n",
       "min     1000.000000      2.000000      1.000000   1950.000000  -36588.165397\n",
       "25%     1513.000000      3.000000      1.000000   1967.000000  169955.860225\n",
       "50%     2007.000000      3.000000      2.000000   1985.000000  225052.141166\n",
       "75%     2506.000000      4.000000      3.000000   2003.000000  279373.630052\n",
       "max     2999.000000      5.000000      3.000000   2021.000000  492195.259972"
      ]
     },
     "execution_count": 8,
     "metadata": {},
     "output_type": "execute_result"
    }
   ],
   "source": [
    "# 데이터 전체 통계\n",
    "df.describe()"
   ]
  },
  {
   "cell_type": "code",
   "execution_count": 9,
   "id": "82df5926",
   "metadata": {
    "execution": {
     "iopub.execute_input": "2024-06-23T08:51:26.536111Z",
     "iopub.status.busy": "2024-06-23T08:51:26.535191Z",
     "iopub.status.idle": "2024-06-23T08:51:26.563350Z",
     "shell.execute_reply": "2024-06-23T08:51:26.562273Z"
    },
    "papermill": {
     "duration": 0.042446,
     "end_time": "2024-06-23T08:51:26.565632",
     "exception": false,
     "start_time": "2024-06-23T08:51:26.523186",
     "status": "completed"
    },
    "tags": []
   },
   "outputs": [
    {
     "data": {
      "text/html": [
       "<div>\n",
       "<style scoped>\n",
       "    .dataframe tbody tr th:only-of-type {\n",
       "        vertical-align: middle;\n",
       "    }\n",
       "\n",
       "    .dataframe tbody tr th {\n",
       "        vertical-align: top;\n",
       "    }\n",
       "\n",
       "    .dataframe thead th {\n",
       "        text-align: right;\n",
       "    }\n",
       "</style>\n",
       "<table border=\"1\" class=\"dataframe\">\n",
       "  <thead>\n",
       "    <tr style=\"text-align: right;\">\n",
       "      <th></th>\n",
       "      <th>SquareFeet</th>\n",
       "      <th>Bedrooms</th>\n",
       "      <th>Bathrooms</th>\n",
       "      <th>Neighborhood</th>\n",
       "      <th>YearBuilt</th>\n",
       "      <th>Price</th>\n",
       "    </tr>\n",
       "  </thead>\n",
       "  <tbody>\n",
       "    <tr>\n",
       "      <th>0</th>\n",
       "      <td>2126</td>\n",
       "      <td>4</td>\n",
       "      <td>1</td>\n",
       "      <td>0</td>\n",
       "      <td>1969</td>\n",
       "      <td>215355.283618</td>\n",
       "    </tr>\n",
       "    <tr>\n",
       "      <th>1</th>\n",
       "      <td>2459</td>\n",
       "      <td>3</td>\n",
       "      <td>2</td>\n",
       "      <td>0</td>\n",
       "      <td>1980</td>\n",
       "      <td>195014.221626</td>\n",
       "    </tr>\n",
       "    <tr>\n",
       "      <th>2</th>\n",
       "      <td>1860</td>\n",
       "      <td>2</td>\n",
       "      <td>1</td>\n",
       "      <td>1</td>\n",
       "      <td>1970</td>\n",
       "      <td>306891.012076</td>\n",
       "    </tr>\n",
       "    <tr>\n",
       "      <th>3</th>\n",
       "      <td>2294</td>\n",
       "      <td>2</td>\n",
       "      <td>1</td>\n",
       "      <td>2</td>\n",
       "      <td>1996</td>\n",
       "      <td>206786.787153</td>\n",
       "    </tr>\n",
       "    <tr>\n",
       "      <th>4</th>\n",
       "      <td>2130</td>\n",
       "      <td>5</td>\n",
       "      <td>2</td>\n",
       "      <td>1</td>\n",
       "      <td>2001</td>\n",
       "      <td>272436.239065</td>\n",
       "    </tr>\n",
       "  </tbody>\n",
       "</table>\n",
       "</div>"
      ],
      "text/plain": [
       "   SquareFeet  Bedrooms  Bathrooms  Neighborhood  YearBuilt          Price\n",
       "0        2126         4          1             0       1969  215355.283618\n",
       "1        2459         3          2             0       1980  195014.221626\n",
       "2        1860         2          1             1       1970  306891.012076\n",
       "3        2294         2          1             2       1996  206786.787153\n",
       "4        2130         5          2             1       2001  272436.239065"
      ]
     },
     "execution_count": 9,
     "metadata": {},
     "output_type": "execute_result"
    }
   ],
   "source": [
    "# 라벨인코딩 (object -> int형 변환)\n",
    "LabelEncoder = LabelEncoder()\n",
    "df['Neighborhood'] = LabelEncoder.fit_transform(df['Neighborhood'])\n",
    "df.head()"
   ]
  },
  {
   "cell_type": "code",
   "execution_count": 10,
   "id": "b7e31845",
   "metadata": {
    "execution": {
     "iopub.execute_input": "2024-06-23T08:51:26.588750Z",
     "iopub.status.busy": "2024-06-23T08:51:26.588387Z",
     "iopub.status.idle": "2024-06-23T08:51:26.592951Z",
     "shell.execute_reply": "2024-06-23T08:51:26.591913Z"
    },
    "papermill": {
     "duration": 0.018919,
     "end_time": "2024-06-23T08:51:26.595291",
     "exception": false,
     "start_time": "2024-06-23T08:51:26.576372",
     "status": "completed"
    },
    "tags": []
   },
   "outputs": [],
   "source": [
    "# 원핫인코딩으로 진행 시\n",
    "# df = pd.get_dummies(df, dtype=int)\n",
    "# df.head()"
   ]
  },
  {
   "cell_type": "code",
   "execution_count": 11,
   "id": "e8b72c82",
   "metadata": {
    "execution": {
     "iopub.execute_input": "2024-06-23T08:51:26.618706Z",
     "iopub.status.busy": "2024-06-23T08:51:26.618346Z",
     "iopub.status.idle": "2024-06-23T08:51:26.641612Z",
     "shell.execute_reply": "2024-06-23T08:51:26.640584Z"
    },
    "papermill": {
     "duration": 0.038206,
     "end_time": "2024-06-23T08:51:26.644235",
     "exception": false,
     "start_time": "2024-06-23T08:51:26.606029",
     "status": "completed"
    },
    "tags": []
   },
   "outputs": [
    {
     "data": {
      "text/html": [
       "<div>\n",
       "<style scoped>\n",
       "    .dataframe tbody tr th:only-of-type {\n",
       "        vertical-align: middle;\n",
       "    }\n",
       "\n",
       "    .dataframe tbody tr th {\n",
       "        vertical-align: top;\n",
       "    }\n",
       "\n",
       "    .dataframe thead th {\n",
       "        text-align: right;\n",
       "    }\n",
       "</style>\n",
       "<table border=\"1\" class=\"dataframe\">\n",
       "  <thead>\n",
       "    <tr style=\"text-align: right;\">\n",
       "      <th></th>\n",
       "      <th>SquareFeet</th>\n",
       "      <th>Bedrooms</th>\n",
       "      <th>Bathrooms</th>\n",
       "      <th>Neighborhood</th>\n",
       "      <th>YearBuilt</th>\n",
       "      <th>Price</th>\n",
       "    </tr>\n",
       "  </thead>\n",
       "  <tbody>\n",
       "    <tr>\n",
       "      <th>SquareFeet</th>\n",
       "      <td>1.000000</td>\n",
       "      <td>-0.002638</td>\n",
       "      <td>-0.003275</td>\n",
       "      <td>0.011186</td>\n",
       "      <td>0.000482</td>\n",
       "      <td>0.750720</td>\n",
       "    </tr>\n",
       "    <tr>\n",
       "      <th>Bedrooms</th>\n",
       "      <td>-0.002638</td>\n",
       "      <td>1.000000</td>\n",
       "      <td>0.007405</td>\n",
       "      <td>-0.004208</td>\n",
       "      <td>0.003147</td>\n",
       "      <td>0.072624</td>\n",
       "    </tr>\n",
       "    <tr>\n",
       "      <th>Bathrooms</th>\n",
       "      <td>-0.003275</td>\n",
       "      <td>0.007405</td>\n",
       "      <td>1.000000</td>\n",
       "      <td>0.001613</td>\n",
       "      <td>0.003748</td>\n",
       "      <td>0.028418</td>\n",
       "    </tr>\n",
       "    <tr>\n",
       "      <th>Neighborhood</th>\n",
       "      <td>0.011186</td>\n",
       "      <td>-0.004208</td>\n",
       "      <td>0.001613</td>\n",
       "      <td>1.000000</td>\n",
       "      <td>-0.000174</td>\n",
       "      <td>0.016429</td>\n",
       "    </tr>\n",
       "    <tr>\n",
       "      <th>YearBuilt</th>\n",
       "      <td>0.000482</td>\n",
       "      <td>0.003147</td>\n",
       "      <td>0.003748</td>\n",
       "      <td>-0.000174</td>\n",
       "      <td>1.000000</td>\n",
       "      <td>-0.002288</td>\n",
       "    </tr>\n",
       "    <tr>\n",
       "      <th>Price</th>\n",
       "      <td>0.750720</td>\n",
       "      <td>0.072624</td>\n",
       "      <td>0.028418</td>\n",
       "      <td>0.016429</td>\n",
       "      <td>-0.002288</td>\n",
       "      <td>1.000000</td>\n",
       "    </tr>\n",
       "  </tbody>\n",
       "</table>\n",
       "</div>"
      ],
      "text/plain": [
       "              SquareFeet  Bedrooms  Bathrooms  Neighborhood  YearBuilt  \\\n",
       "SquareFeet      1.000000 -0.002638  -0.003275      0.011186   0.000482   \n",
       "Bedrooms       -0.002638  1.000000   0.007405     -0.004208   0.003147   \n",
       "Bathrooms      -0.003275  0.007405   1.000000      0.001613   0.003748   \n",
       "Neighborhood    0.011186 -0.004208   0.001613      1.000000  -0.000174   \n",
       "YearBuilt       0.000482  0.003147   0.003748     -0.000174   1.000000   \n",
       "Price           0.750720  0.072624   0.028418      0.016429  -0.002288   \n",
       "\n",
       "                 Price  \n",
       "SquareFeet    0.750720  \n",
       "Bedrooms      0.072624  \n",
       "Bathrooms     0.028418  \n",
       "Neighborhood  0.016429  \n",
       "YearBuilt    -0.002288  \n",
       "Price         1.000000  "
      ]
     },
     "execution_count": 11,
     "metadata": {},
     "output_type": "execute_result"
    }
   ],
   "source": [
    "# 변수 간 상관관계 확인\n",
    "df.corr()"
   ]
  },
  {
   "cell_type": "code",
   "execution_count": 12,
   "id": "4e1b8184",
   "metadata": {
    "execution": {
     "iopub.execute_input": "2024-06-23T08:51:26.668908Z",
     "iopub.status.busy": "2024-06-23T08:51:26.668506Z",
     "iopub.status.idle": "2024-06-23T08:51:27.155145Z",
     "shell.execute_reply": "2024-06-23T08:51:27.154044Z"
    },
    "papermill": {
     "duration": 0.501656,
     "end_time": "2024-06-23T08:51:27.157470",
     "exception": false,
     "start_time": "2024-06-23T08:51:26.655814",
     "status": "completed"
    },
    "tags": []
   },
   "outputs": [
    {
     "data": {
      "text/plain": [
       "<Axes: >"
      ]
     },
     "execution_count": 12,
     "metadata": {},
     "output_type": "execute_result"
    },
    {
     "data": {
      "image/png": "[encoded data removed]",
      "text/plain": [
       "<Figure size 500x500 with 2 Axes>"
      ]
     },
     "metadata": {},
     "output_type": "display_data"
    }
   ],
   "source": [
    "# Heatmap으로 상관관계 확인 \n",
    "plt.rcParams['figure.figsize'] = (5, 5)\n",
    "sns.heatmap(df.corr(), annot=True, annot_kws={'size': 7}, fmt='.5f', cmap='RdPu')"
   ]
  },
  {
   "cell_type": "code",
   "execution_count": 13,
   "id": "9eb342a3",
   "metadata": {
    "execution": {
     "iopub.execute_input": "2024-06-23T08:51:27.184310Z",
     "iopub.status.busy": "2024-06-23T08:51:27.183893Z",
     "iopub.status.idle": "2024-06-23T08:51:27.200269Z",
     "shell.execute_reply": "2024-06-23T08:51:27.199023Z"
    },
    "papermill": {
     "duration": 0.032284,
     "end_time": "2024-06-23T08:51:27.202575",
     "exception": false,
     "start_time": "2024-06-23T08:51:27.170291",
     "status": "completed"
    },
    "tags": []
   },
   "outputs": [
    {
     "name": "stdout",
     "output_type": "stream",
     "text": [
      "(40000, 5) (10000, 5) (40000,) (10000,)\n"
     ]
    }
   ],
   "source": [
    "# 데이터 Train, Test 나누기\n",
    "X_train, X_test, y_train, y_test = train_test_split(\n",
    "    df.drop('Price', axis=1), df['Price'], test_size=0.2, random_state=1234\n",
    ")\n",
    "print(X_train.shape, X_test.shape, y_train.shape, y_test.shape)"
   ]
  },
  {
   "cell_type": "code",
   "execution_count": 14,
   "id": "fdace1c4",
   "metadata": {
    "execution": {
     "iopub.execute_input": "2024-06-23T08:51:27.229061Z",
     "iopub.status.busy": "2024-06-23T08:51:27.228375Z",
     "iopub.status.idle": "2024-06-23T08:51:27.239482Z",
     "shell.execute_reply": "2024-06-23T08:51:27.238440Z"
    },
    "papermill": {
     "duration": 0.027023,
     "end_time": "2024-06-23T08:51:27.241765",
     "exception": false,
     "start_time": "2024-06-23T08:51:27.214742",
     "status": "completed"
    },
    "tags": []
   },
   "outputs": [
    {
     "data": {
      "text/html": [
       "<div>\n",
       "<style scoped>\n",
       "    .dataframe tbody tr th:only-of-type {\n",
       "        vertical-align: middle;\n",
       "    }\n",
       "\n",
       "    .dataframe tbody tr th {\n",
       "        vertical-align: top;\n",
       "    }\n",
       "\n",
       "    .dataframe thead th {\n",
       "        text-align: right;\n",
       "    }\n",
       "</style>\n",
       "<table border=\"1\" class=\"dataframe\">\n",
       "  <thead>\n",
       "    <tr style=\"text-align: right;\">\n",
       "      <th></th>\n",
       "      <th>SquareFeet</th>\n",
       "      <th>Bedrooms</th>\n",
       "      <th>Bathrooms</th>\n",
       "      <th>Neighborhood</th>\n",
       "      <th>YearBuilt</th>\n",
       "    </tr>\n",
       "  </thead>\n",
       "  <tbody>\n",
       "    <tr>\n",
       "      <th>37174</th>\n",
       "      <td>2714</td>\n",
       "      <td>4</td>\n",
       "      <td>1</td>\n",
       "      <td>1</td>\n",
       "      <td>1969</td>\n",
       "    </tr>\n",
       "    <tr>\n",
       "      <th>29950</th>\n",
       "      <td>1333</td>\n",
       "      <td>2</td>\n",
       "      <td>2</td>\n",
       "      <td>0</td>\n",
       "      <td>1997</td>\n",
       "    </tr>\n",
       "    <tr>\n",
       "      <th>49833</th>\n",
       "      <td>2542</td>\n",
       "      <td>5</td>\n",
       "      <td>2</td>\n",
       "      <td>1</td>\n",
       "      <td>1969</td>\n",
       "    </tr>\n",
       "  </tbody>\n",
       "</table>\n",
       "</div>"
      ],
      "text/plain": [
       "       SquareFeet  Bedrooms  Bathrooms  Neighborhood  YearBuilt\n",
       "37174        2714         4          1             1       1969\n",
       "29950        1333         2          2             0       1997\n",
       "49833        2542         5          2             1       1969"
      ]
     },
     "execution_count": 14,
     "metadata": {},
     "output_type": "execute_result"
    }
   ],
   "source": [
    "X_train.head(3)"
   ]
  },
  {
   "cell_type": "code",
   "execution_count": 15,
   "id": "33e37a98",
   "metadata": {
    "execution": {
     "iopub.execute_input": "2024-06-23T08:51:27.269244Z",
     "iopub.status.busy": "2024-06-23T08:51:27.268516Z",
     "iopub.status.idle": "2024-06-23T08:51:27.277489Z",
     "shell.execute_reply": "2024-06-23T08:51:27.276151Z"
    },
    "papermill": {
     "duration": 0.025122,
     "end_time": "2024-06-23T08:51:27.279690",
     "exception": false,
     "start_time": "2024-06-23T08:51:27.254568",
     "status": "completed"
    },
    "tags": []
   },
   "outputs": [
    {
     "data": {
      "text/plain": [
       "37174    318386.661622\n",
       "29950    105783.099392\n",
       "49833    245920.448070\n",
       "Name: Price, dtype: float64"
      ]
     },
     "execution_count": 15,
     "metadata": {},
     "output_type": "execute_result"
    }
   ],
   "source": [
    "y_train.head(3)"
   ]
  },
  {
   "cell_type": "code",
   "execution_count": 16,
   "id": "213c156c",
   "metadata": {
    "execution": {
     "iopub.execute_input": "2024-06-23T08:51:27.307075Z",
     "iopub.status.busy": "2024-06-23T08:51:27.306263Z",
     "iopub.status.idle": "2024-06-23T08:51:27.315777Z",
     "shell.execute_reply": "2024-06-23T08:51:27.314493Z"
    },
    "papermill": {
     "duration": 0.025861,
     "end_time": "2024-06-23T08:51:27.318050",
     "exception": false,
     "start_time": "2024-06-23T08:51:27.292189",
     "status": "completed"
    },
    "tags": []
   },
   "outputs": [
    {
     "name": "stdout",
     "output_type": "stream",
     "text": [
      "<class 'pandas.core.series.Series'>\n",
      "Index: 40000 entries, 37174 to 27439\n",
      "Series name: Price\n",
      "Non-Null Count  Dtype  \n",
      "--------------  -----  \n",
      "40000 non-null  float64\n",
      "dtypes: float64(1)\n",
      "memory usage: 625.0 KB\n"
     ]
    }
   ],
   "source": [
    "y_train.info()"
   ]
  },
  {
   "cell_type": "code",
   "execution_count": 17,
   "id": "85bd992c",
   "metadata": {
    "execution": {
     "iopub.execute_input": "2024-06-23T08:51:27.346014Z",
     "iopub.status.busy": "2024-06-23T08:51:27.345052Z",
     "iopub.status.idle": "2024-06-23T08:51:27.351248Z",
     "shell.execute_reply": "2024-06-23T08:51:27.350068Z"
    },
    "papermill": {
     "duration": 0.022644,
     "end_time": "2024-06-23T08:51:27.353700",
     "exception": false,
     "start_time": "2024-06-23T08:51:27.331056",
     "status": "completed"
    },
    "tags": []
   },
   "outputs": [],
   "source": [
    "models = [\n",
    "    LinearRegression(),\n",
    "    Lasso(random_state=1234),\n",
    "    RandomForestRegressor(random_state=1234),\n",
    "    GradientBoostingRegressor(random_state=1234),\n",
    "    KNeighborsRegressor(),\n",
    "    XGBRegressor(random_state=1234)\n",
    "]"
   ]
  },
  {
   "cell_type": "code",
   "execution_count": 18,
   "id": "a61e3364",
   "metadata": {
    "execution": {
     "iopub.execute_input": "2024-06-23T08:51:27.381357Z",
     "iopub.status.busy": "2024-06-23T08:51:27.380628Z",
     "iopub.status.idle": "2024-06-23T08:51:41.751304Z",
     "shell.execute_reply": "2024-06-23T08:51:41.750290Z"
    },
    "papermill": {
     "duration": 14.387387,
     "end_time": "2024-06-23T08:51:41.753983",
     "exception": false,
     "start_time": "2024-06-23T08:51:27.366596",
     "status": "completed"
    },
    "tags": []
   },
   "outputs": [
    {
     "name": "stdout",
     "output_type": "stream",
     "text": [
      "    LinearRegression\n",
      "    R2_score: 0.5692    |    RMSE: 49972.695984\n",
      "============================================================\n",
      "    Lasso\n",
      "    R2_score: 0.5692    |    RMSE: 49972.709112\n",
      "============================================================\n",
      "    RandomForestRegressor\n",
      "    R2_score: 0.5151    |    RMSE: 53021.172577\n",
      "============================================================\n",
      "    GradientBoostingRegressor\n",
      "    R2_score: 0.5683    |    RMSE: 50025.627991\n",
      "============================================================\n",
      "    KNeighborsRegressor\n",
      "    R2_score: 0.4741    |    RMSE: 55216.337069\n",
      "============================================================\n",
      "    XGBRegressor\n",
      "    R2_score: 0.5531    |    RMSE: 50896.964578\n",
      "============================================================\n",
      "\n",
      "Best Model : LinearRegression \n",
      "    R2_score: 0.5692276886706162    |    RMSE: 49972.695984341706\n"
     ]
    }
   ],
   "source": [
    "# best model 찾기\n",
    "best_loss = None\n",
    "best_model = None\n",
    "best_score = None\n",
    "\n",
    "for model in models:\n",
    "    model.fit(X_train, y_train)\n",
    "    y_pred = model.predict(X_test)\n",
    "\n",
    "    r2 = r2_score(y_test, y_pred)\n",
    "    rmse = mean_squared_error(y_test, y_pred, squared=False)\n",
    "    print(f'    {model.__class__.__name__}')\n",
    "    print(f'    R2_score: {round(r2, 4)}    |    RMSE: {round(rmse, 6)}')\n",
    "    print('=' * 60)\n",
    "\n",
    "    if best_loss != None:\n",
    "        if best_score < r2:\n",
    "            best_model = model\n",
    "            best_score = r2\n",
    "            best_loss = rmse\n",
    "\n",
    "    else:\n",
    "        best_model = model\n",
    "        best_score = r2\n",
    "        best_loss = rmse\n",
    "\n",
    "print(f'\\nBest Model : {best_model.__class__.__name__} \\n    R2_score: {best_score}    |    RMSE: {best_loss}')"
   ]
  },
  {
   "cell_type": "code",
   "execution_count": 19,
   "id": "f7327c80",
   "metadata": {
    "execution": {
     "iopub.execute_input": "2024-06-23T08:51:41.783006Z",
     "iopub.status.busy": "2024-06-23T08:51:41.782600Z",
     "iopub.status.idle": "2024-06-23T08:51:41.810749Z",
     "shell.execute_reply": "2024-06-23T08:51:41.809156Z"
    },
    "papermill": {
     "duration": 0.047349,
     "end_time": "2024-06-23T08:51:41.815630",
     "exception": false,
     "start_time": "2024-06-23T08:51:41.768281",
     "status": "completed"
    },
    "tags": []
   },
   "outputs": [
    {
     "name": "stdout",
     "output_type": "stream",
     "text": [
      "R2_score:  0.5692276886706162\n",
      "RMSE:      49972.695984341706\n"
     ]
    }
   ],
   "source": [
    "# best model 기준 예측값 저장\n",
    "best_model.fit(X_train, y_train)\n",
    "y_pred = best_model.predict(X_test)\n",
    "\n",
    "# 성능 평가 결과 (r2, rmse)\n",
    "r2 = r2_score(y_test, y_pred)\n",
    "rmse = mean_squared_error(y_test, y_pred, squared=False)\n",
    "print('R2_score: ', r2)\n",
    "print('RMSE:     ', rmse)\n",
    "\n",
    "# 예측값 저장\n",
    "predict = pd.DataFrame({\n",
    "    'Neighborhood': X_test['Neighborhood'],\n",
    "    'Price': y_pred\n",
    "})"
   ]
  },
  {
   "cell_type": "code",
   "execution_count": 20,
   "id": "f8e41201",
   "metadata": {
    "execution": {
     "iopub.execute_input": "2024-06-23T08:51:41.878023Z",
     "iopub.status.busy": "2024-06-23T08:51:41.876294Z",
     "iopub.status.idle": "2024-06-23T08:51:41.886879Z",
     "shell.execute_reply": "2024-06-23T08:51:41.885455Z"
    },
    "papermill": {
     "duration": 0.045022,
     "end_time": "2024-06-23T08:51:41.890780",
     "exception": false,
     "start_time": "2024-06-23T08:51:41.845758",
     "status": "completed"
    },
    "tags": []
   },
   "outputs": [
    {
     "data": {
      "text/plain": [
       "(10000, 2)"
      ]
     },
     "execution_count": 20,
     "metadata": {},
     "output_type": "execute_result"
    }
   ],
   "source": [
    "predict.shape"
   ]
  },
  {
   "cell_type": "code",
   "execution_count": 21,
   "id": "beda8202",
   "metadata": {
    "execution": {
     "iopub.execute_input": "2024-06-23T08:51:41.935998Z",
     "iopub.status.busy": "2024-06-23T08:51:41.935583Z",
     "iopub.status.idle": "2024-06-23T08:51:41.946291Z",
     "shell.execute_reply": "2024-06-23T08:51:41.945262Z"
    },
    "papermill": {
     "duration": 0.029133,
     "end_time": "2024-06-23T08:51:41.948747",
     "exception": false,
     "start_time": "2024-06-23T08:51:41.919614",
     "status": "completed"
    },
    "tags": []
   },
   "outputs": [
    {
     "data": {
      "text/html": [
       "<div>\n",
       "<style scoped>\n",
       "    .dataframe tbody tr th:only-of-type {\n",
       "        vertical-align: middle;\n",
       "    }\n",
       "\n",
       "    .dataframe tbody tr th {\n",
       "        vertical-align: top;\n",
       "    }\n",
       "\n",
       "    .dataframe thead th {\n",
       "        text-align: right;\n",
       "    }\n",
       "</style>\n",
       "<table border=\"1\" class=\"dataframe\">\n",
       "  <thead>\n",
       "    <tr style=\"text-align: right;\">\n",
       "      <th></th>\n",
       "      <th>Neighborhood</th>\n",
       "      <th>Price</th>\n",
       "    </tr>\n",
       "  </thead>\n",
       "  <tbody>\n",
       "    <tr>\n",
       "      <th>20308</th>\n",
       "      <td>0</td>\n",
       "      <td>269752.578805</td>\n",
       "    </tr>\n",
       "    <tr>\n",
       "      <th>37706</th>\n",
       "      <td>1</td>\n",
       "      <td>226515.920428</td>\n",
       "    </tr>\n",
       "    <tr>\n",
       "      <th>6041</th>\n",
       "      <td>1</td>\n",
       "      <td>187048.154447</td>\n",
       "    </tr>\n",
       "    <tr>\n",
       "      <th>42143</th>\n",
       "      <td>0</td>\n",
       "      <td>307241.385607</td>\n",
       "    </tr>\n",
       "    <tr>\n",
       "      <th>23202</th>\n",
       "      <td>0</td>\n",
       "      <td>256379.404406</td>\n",
       "    </tr>\n",
       "  </tbody>\n",
       "</table>\n",
       "</div>"
      ],
      "text/plain": [
       "       Neighborhood          Price\n",
       "20308             0  269752.578805\n",
       "37706             1  226515.920428\n",
       "6041              1  187048.154447\n",
       "42143             0  307241.385607\n",
       "23202             0  256379.404406"
      ]
     },
     "execution_count": 21,
     "metadata": {},
     "output_type": "execute_result"
    }
   ],
   "source": [
    "predict.head()"
   ]
  },
  {
   "cell_type": "code",
   "execution_count": 22,
   "id": "e788a38e",
   "metadata": {
    "execution": {
     "iopub.execute_input": "2024-06-23T08:51:41.980500Z",
     "iopub.status.busy": "2024-06-23T08:51:41.980079Z",
     "iopub.status.idle": "2024-06-23T08:51:42.668724Z",
     "shell.execute_reply": "2024-06-23T08:51:42.667743Z"
    },
    "papermill": {
     "duration": 0.707131,
     "end_time": "2024-06-23T08:51:42.671534",
     "exception": false,
     "start_time": "2024-06-23T08:51:41.964403",
     "status": "completed"
    },
    "tags": []
   },
   "outputs": [],
   "source": [
    "# X_train 데이터셋의 y_train값 평균\n",
    "train_mean_price = pd.DataFrame([X_train['Neighborhood'], y_train])\n",
    "train_mean_price = train_mean_price.T\n",
    "train_mean_price['Neighborhood']=train_mean_price['Neighborhood'].astype('int64')\n",
    "\n",
    "# X_test 데이터셋의 y_test값 평균 \n",
    "xtest_mean_price = pd.DataFrame([X_test['Neighborhood'], y_test])\n",
    "xtest_mean_price = xtest_mean_price.T\n",
    "xtest_mean_price['Neighborhood']=xtest_mean_price['Neighborhood'].astype('int64')\n",
    "\n",
    "# 학습데이터 주택 가격 (X_train, y_train)\n",
    "train_mean_price = pd.DataFrame(train_mean_price.groupby('Neighborhood')['Price'].mean())\n",
    "# 테스트데이터 주택 가격 (X_test, y_test)\n",
    "xtest_mean_price = pd.DataFrame(xtest_mean_price.groupby('Neighborhood')['Price'].mean())\n",
    "# 예측한 주택 가격 (X_test, y_pred)\n",
    "pred_df = pd.DataFrame(predict.groupby('Neighborhood')['Price'].mean())\n",
    "\n",
    "# 가격 차이 (y_train - y_pred = price_difference_1, y_test-y_pred =  price_difference_2)\n",
    "price_difference_0 = []\n",
    "price_difference_1 = []\n",
    "price_difference_2 = []\n",
    "for i in range(len(train_mean_price+1)):\n",
    "    price0 = train_mean_price['Price'][i] - xtest_mean_price['Price'][i]\n",
    "    price1 = train_mean_price['Price'][i] - pred_df['Price'][i]\n",
    "    price2 = xtest_mean_price['Price'][i] - pred_df['Price'][i]\n",
    "    price_difference_0.append(price0)\n",
    "    price_difference_1.append(price1)\n",
    "    price_difference_2.append(price2)\n",
    "price_difference_0 = pd.DataFrame(price_difference_0)\n",
    "price_difference_1 = pd.DataFrame(price_difference_1)\n",
    "price_difference_2 = pd.DataFrame(price_difference_2)\n",
    "\n",
    "# 하나의 데이터프레임으로 결과 비교해보기\n",
    "result_df = pd.concat([train_mean_price, xtest_mean_price, pred_df, price_difference_0, price_difference_1, price_difference_2], axis=1).reset_index()\n",
    "result_df.columns = ['Neighborhood', 'Train Price', 'Test Price', 'Predict Price', 'Train-Test', 'Train-Predict', 'Test-Predict']\n",
    "result_df['Neighborhood']=result_df['Neighborhood'].replace({0: 'Rural', 1: 'Suburb', 2: 'Urban'})"
   ]
  },
  {
   "cell_type": "code",
   "execution_count": 23,
   "id": "c36de749",
   "metadata": {
    "execution": {
     "iopub.execute_input": "2024-06-23T08:51:42.700858Z",
     "iopub.status.busy": "2024-06-23T08:51:42.700432Z",
     "iopub.status.idle": "2024-06-23T08:51:42.714900Z",
     "shell.execute_reply": "2024-06-23T08:51:42.713685Z"
    },
    "papermill": {
     "duration": 0.032542,
     "end_time": "2024-06-23T08:51:42.717726",
     "exception": false,
     "start_time": "2024-06-23T08:51:42.685184",
     "status": "completed"
    },
    "tags": []
   },
   "outputs": [
    {
     "data": {
      "text/html": [
       "<div>\n",
       "<style scoped>\n",
       "    .dataframe tbody tr th:only-of-type {\n",
       "        vertical-align: middle;\n",
       "    }\n",
       "\n",
       "    .dataframe tbody tr th {\n",
       "        vertical-align: top;\n",
       "    }\n",
       "\n",
       "    .dataframe thead th {\n",
       "        text-align: right;\n",
       "    }\n",
       "</style>\n",
       "<table border=\"1\" class=\"dataframe\">\n",
       "  <thead>\n",
       "    <tr style=\"text-align: right;\">\n",
       "      <th></th>\n",
       "      <th>Neighborhood</th>\n",
       "      <th>Train Price</th>\n",
       "      <th>Test Price</th>\n",
       "      <th>Predict Price</th>\n",
       "      <th>Train-Test</th>\n",
       "      <th>Train-Predict</th>\n",
       "      <th>Test-Predict</th>\n",
       "    </tr>\n",
       "  </thead>\n",
       "  <tbody>\n",
       "    <tr>\n",
       "      <th>0</th>\n",
       "      <td>Rural</td>\n",
       "      <td>224033.079095</td>\n",
       "      <td>224355.486592</td>\n",
       "      <td>223576.574069</td>\n",
       "      <td>-322.407497</td>\n",
       "      <td>456.505026</td>\n",
       "      <td>778.912523</td>\n",
       "    </tr>\n",
       "    <tr>\n",
       "      <th>1</th>\n",
       "      <td>Suburb</td>\n",
       "      <td>223477.215290</td>\n",
       "      <td>222283.434954</td>\n",
       "      <td>222341.663788</td>\n",
       "      <td>1193.780336</td>\n",
       "      <td>1135.551503</td>\n",
       "      <td>-58.228834</td>\n",
       "    </tr>\n",
       "    <tr>\n",
       "      <th>2</th>\n",
       "      <td>Urban</td>\n",
       "      <td>227249.379884</td>\n",
       "      <td>226835.262010</td>\n",
       "      <td>224942.849065</td>\n",
       "      <td>414.117874</td>\n",
       "      <td>2306.530819</td>\n",
       "      <td>1892.412945</td>\n",
       "    </tr>\n",
       "  </tbody>\n",
       "</table>\n",
       "</div>"
      ],
      "text/plain": [
       "  Neighborhood    Train Price     Test Price  Predict Price   Train-Test  \\\n",
       "0        Rural  224033.079095  224355.486592  223576.574069  -322.407497   \n",
       "1       Suburb  223477.215290  222283.434954  222341.663788  1193.780336   \n",
       "2        Urban  227249.379884  226835.262010  224942.849065   414.117874   \n",
       "\n",
       "   Train-Predict  Test-Predict  \n",
       "0     456.505026    778.912523  \n",
       "1    1135.551503    -58.228834  \n",
       "2    2306.530819   1892.412945  "
      ]
     },
     "execution_count": 23,
     "metadata": {},
     "output_type": "execute_result"
    }
   ],
   "source": [
    "result_df"
   ]
  },
  {
   "cell_type": "code",
   "execution_count": 24,
   "id": "abafaee0",
   "metadata": {
    "execution": {
     "iopub.execute_input": "2024-06-23T08:51:42.748227Z",
     "iopub.status.busy": "2024-06-23T08:51:42.747800Z",
     "iopub.status.idle": "2024-06-23T08:51:43.986880Z",
     "shell.execute_reply": "2024-06-23T08:51:43.985706Z"
    },
    "papermill": {
     "duration": 1.257736,
     "end_time": "2024-06-23T08:51:43.989493",
     "exception": false,
     "start_time": "2024-06-23T08:51:42.731757",
     "status": "completed"
    },
    "tags": []
   },
   "outputs": [
    {
     "name": "stdout",
     "output_type": "stream",
     "text": [
      "교차 검증 점수: [1.         0.96666667 0.93333333 0.93333333 0.96666667]\n",
      "평균 점수: 0.9600000000000002\n"
     ]
    }
   ],
   "source": [
    "from sklearn.model_selection import KFold, cross_val_score\n",
    "from sklearn.ensemble import RandomForestClassifier\n",
    "from sklearn.datasets import load_iris\n",
    "import numpy as np\n",
    "\n",
    "# 데이터 로드\n",
    "data = load_iris()\n",
    "X, y = data.data, data.target\n",
    "\n",
    "# 모델 정의\n",
    "model = RandomForestClassifier()\n",
    "\n",
    "# k-폴드 교차 검증 설정 (5-폴드)\n",
    "kf = KFold(n_splits=5, shuffle=True, random_state=42)\n",
    "\n",
    "# 교차 검증 실행\n",
    "scores = cross_val_score(model, X, y, cv=kf)\n",
    "\n",
    "# 결과 출력\n",
    "print(\"교차 검증 점수:\", scores)\n",
    "print(\"평균 점수:\", scores.mean())"
   ]
  },
  {
   "cell_type": "code",
   "execution_count": 25,
   "id": "72ca40e9",
   "metadata": {
    "execution": {
     "iopub.execute_input": "2024-06-23T08:51:44.019791Z",
     "iopub.status.busy": "2024-06-23T08:51:44.019352Z",
     "iopub.status.idle": "2024-06-23T08:51:44.029350Z",
     "shell.execute_reply": "2024-06-23T08:51:44.028066Z"
    },
    "papermill": {
     "duration": 0.028132,
     "end_time": "2024-06-23T08:51:44.031856",
     "exception": false,
     "start_time": "2024-06-23T08:51:44.003724",
     "status": "completed"
    },
    "tags": []
   },
   "outputs": [
    {
     "name": "stdout",
     "output_type": "stream",
     "text": [
      "평균의 95% 신뢰 구간: [-0.2638622920619734, 0.1333969205456326]\n"
     ]
    }
   ],
   "source": [
    "import numpy as np\n",
    "\n",
    "# 원본 데이터셋\n",
    "data = np.random.normal(size=100)\n",
    "\n",
    "# 부트스트랩 샘플링\n",
    "bootstrap_samples = np.random.choice(data, size=(1000, len(data)), replace=True)\n",
    "bootstrap_means = np.mean(bootstrap_samples, axis=1)\n",
    "\n",
    "# 신뢰 구간 계산\n",
    "lower_bound = np.percentile(bootstrap_means, 2.5)\n",
    "upper_bound = np.percentile(bootstrap_means, 97.5)\n",
    "\n",
    "print(f\"평균의 95% 신뢰 구간: [{lower_bound}, {upper_bound}]\")"
   ]
  }
 ],
 "metadata": {
  "kaggle": {
   "accelerator": "none",
   "dataSources": [
    {
     "datasetId": 4037188,
     "sourceId": 7020742,
     "sourceType": "datasetVersion"
    }
   ],
   "dockerImageVersionId": 30732,
   "isGpuEnabled": false,
   "isInternetEnabled": false,
   "language": "python",
   "sourceType": "notebook"
  },
  "kernelspec": {
   "display_name": "Python 3",
   "language": "python",
   "name": "python3"
  },
  "language_info": {
   "codemirror_mode": {
    "name": "ipython",
    "version": 3
   },
   "file_extension": ".py",
   "mimetype": "text/x-python",
   "name": "python",
   "nbconvert_exporter": "python",
   "pygments_lexer": "ipython3",
   "version": "3.10.13"
  },
  "papermill": {
   "default_parameters": {},
   "duration": 25.107526,
   "end_time": "2024-06-23T08:51:44.768768",
   "environment_variables": {},
   "exception": null,
   "input_path": "__notebook__.ipynb",
   "output_path": "__notebook__.ipynb",
   "parameters": {},
   "start_time": "2024-06-23T08:51:19.661242",
   "version": "2.5.0"
  }
 },
 "nbformat": 4,
 "nbformat_minor": 5
}
